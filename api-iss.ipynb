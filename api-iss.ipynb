{
 "cells": [
  {
   "cell_type": "code",
   "execution_count": null,
   "metadata": {},
   "outputs": [],
   "source": [
    "# A very simple use of API for illustration: making request to ISS (International Space Station)\n",
    "# Each API comes with its \"API Documentation\" where it defines API endpoints,\n",
    "# grammar for communication with API and instruction on how to integrate API with your application. \n",
    "# Read http://open-notify.org/Open-Notify-API/ for ISS API documentation"
   ]
  },
  {
   "cell_type": "code",
   "execution_count": 36,
   "metadata": {},
   "outputs": [],
   "source": [
    "# `requsts` is a powerful python library for http communication\n",
    "import requests\n",
    "# `json` stands for JavaScript Object Notation, just another serialized data format such as .csv\n",
    "import json\n",
    "from datetime import datetime "
   ]
  },
  {
   "cell_type": "code",
   "execution_count": null,
   "metadata": {},
   "outputs": [],
   "source": []
  },
  {
   "cell_type": "code",
   "execution_count": 7,
   "metadata": {},
   "outputs": [
    {
     "name": "stdout",
     "output_type": "stream",
     "text": [
      "<Response [200]>\n"
     ]
    }
   ],
   "source": [
    "# making our first request to astronauts endpoint for open-notify API for ISS\n",
    "response = requests.get(\"http://api.open-notify.org/astros.json\")\n",
    "print(response)"
   ]
  },
  {
   "cell_type": "code",
   "execution_count": 8,
   "metadata": {},
   "outputs": [],
   "source": [
    "# meaning pf response's status codes: \n",
    "# 200: Everything went okay, and the result has been returned (if any).\n",
    "# 301: The server is redirecting you to a different endpoint. This can happen when a company switches domain names, or an endpoint name is changed.\n",
    "# 400: The server thinks you made a bad request. This can happen when you don’t send along the right data, among other things.\n",
    "# 401: The server thinks you’re not authenticated. Many APIs require login ccredentials, so this happens when you don’t send the right credentials to access an API.\n",
    "# 403: The resource you’re trying to access is forbidden: you don’t have the right permissions to see it.\n",
    "# 404: The resource you tried to access wasn’t found on the server.\n",
    "# 503: The server is not ready to handle the request."
   ]
  },
  {
   "cell_type": "code",
   "execution_count": 13,
   "metadata": {},
   "outputs": [
    {
     "name": "stdout",
     "output_type": "stream",
     "text": [
      "{'message': 'success', 'number': 7, 'people': [{'craft': 'ISS', 'name': 'Sergey Ryzhikov'}, {'craft': 'ISS', 'name': 'Kate Rubins'}, {'craft': 'ISS', 'name': 'Sergey Kud-Sverchkov'}, {'craft': 'ISS', 'name': 'Mike Hopkins'}, {'craft': 'ISS', 'name': 'Victor Glover'}, {'craft': 'ISS', 'name': 'Shannon Walker'}, {'craft': 'ISS', 'name': 'Soichi Noguchi'}]}\n"
     ]
    }
   ],
   "source": [
    "# get the .json data file from the API endpoint using predefined `json()` method\n",
    "astronauts = response.json()\n",
    "print(astronauts)"
   ]
  },
  {
   "cell_type": "code",
   "execution_count": 24,
   "metadata": {},
   "outputs": [
    {
     "name": "stdout",
     "output_type": "stream",
     "text": [
      "{\n",
      "    \"message\": \"success\",\n",
      "    \"number\": 7,\n",
      "    \"people\": [\n",
      "        {\n",
      "            \"craft\": \"ISS\",\n",
      "            \"name\": \"Sergey Ryzhikov\"\n",
      "        },\n",
      "        {\n",
      "            \"craft\": \"ISS\",\n",
      "            \"name\": \"Kate Rubins\"\n",
      "        },\n",
      "        {\n",
      "            \"craft\": \"ISS\",\n",
      "            \"name\": \"Sergey Kud-Sverchkov\"\n",
      "        },\n",
      "        {\n",
      "            \"craft\": \"ISS\",\n",
      "            \"name\": \"Mike Hopkins\"\n",
      "        },\n",
      "        {\n",
      "            \"craft\": \"ISS\",\n",
      "            \"name\": \"Victor Glover\"\n",
      "        },\n",
      "        {\n",
      "            \"craft\": \"ISS\",\n",
      "            \"name\": \"Shannon Walker\"\n",
      "        },\n",
      "        {\n",
      "            \"craft\": \"ISS\",\n",
      "            \"name\": \"Soichi Noguchi\"\n",
      "        }\n",
      "    ]\n",
      "}\n"
     ]
    }
   ],
   "source": [
    "def jsprint(obj):\n",
    "    # create a formatted string of the Python JSON object\n",
    "    text = json.dumps(obj, sort_keys=True, indent=4)\n",
    "    print(text)\n",
    "jsprint(astronauts)"
   ]
  },
  {
   "cell_type": "code",
   "execution_count": null,
   "metadata": {},
   "outputs": [],
   "source": [
    "# making our second request for API endpoint "
   ]
  },
  {
   "cell_type": "code",
   "execution_count": 21,
   "metadata": {},
   "outputs": [],
   "source": [
    "# define our position NUS in term of latitude, longitude in the parameter\n",
    "OurPosition = {\n",
    "    # 1.2966 N\n",
    "    \"lat\": 1.2966,\n",
    "    # 103.7764 E\n",
    "    \"lon\": 103.7764\n",
    "    }"
   ]
  },
  {
   "cell_type": "code",
   "execution_count": 25,
   "metadata": {},
   "outputs": [
    {
     "name": "stdout",
     "output_type": "stream",
     "text": [
      "{\n",
      "    \"message\": \"success\",\n",
      "    \"request\": {\n",
      "        \"altitude\": 100,\n",
      "        \"datetime\": 1610604571,\n",
      "        \"latitude\": 1.2966,\n",
      "        \"longitude\": 103.7764,\n",
      "        \"passes\": 5\n",
      "    },\n",
      "    \"response\": [\n",
      "        {\n",
      "            \"duration\": 402,\n",
      "            \"risetime\": 1610617208\n",
      "        },\n",
      "        {\n",
      "            \"duration\": 644,\n",
      "            \"risetime\": 1610622885\n",
      "        },\n",
      "        {\n",
      "            \"duration\": 361,\n",
      "            \"risetime\": 1610658960\n",
      "        },\n",
      "        {\n",
      "            \"duration\": 648,\n",
      "            \"risetime\": 1610664618\n",
      "        },\n",
      "        {\n",
      "            \"duration\": 649,\n",
      "            \"risetime\": 1610706423\n",
      "        }\n",
      "    ]\n",
      "}\n"
     ]
    }
   ],
   "source": [
    "# this endpoint gives us the next time and duration ISS passes over the location specified by the parameters\n",
    "response = requests.get(\"http://api.open-notify.org/iss-pass.json\", params = OurPosition)\n",
    "passtime = response.json()\n",
    "jsprint(passtime)"
   ]
  },
  {
   "cell_type": "code",
   "execution_count": 26,
   "metadata": {},
   "outputs": [
    {
     "data": {
      "text/plain": [
       "[{'duration': 402, 'risetime': 1610617208},\n",
       " {'duration': 644, 'risetime': 1610622885},\n",
       " {'duration': 361, 'risetime': 1610658960},\n",
       " {'duration': 648, 'risetime': 1610664618},\n",
       " {'duration': 649, 'risetime': 1610706423}]"
      ]
     },
     "execution_count": 26,
     "metadata": {},
     "output_type": "execute_result"
    }
   ],
   "source": [
    "# like python dictionary. we could call its key 'response' in json, which is a list object\n",
    "passtime[\"response\"]    "
   ]
  },
  {
   "cell_type": "code",
   "execution_count": 32,
   "metadata": {},
   "outputs": [
    {
     "name": "stdout",
     "output_type": "stream",
     "text": [
      "[1610617208, 1610622885, 1610658960, 1610664618, 1610706423]\n"
     ]
    }
   ],
   "source": [
    "# let's capture all the 'risetime'\n",
    "# initilize a list as container for risetime\n",
    "risetime = []\n",
    "for eachpass in passtime[\"response\"]:\n",
    "    time = eachpass[\"risetime\"]\n",
    "    risetime.append(time)\n",
    "print(risetime)"
   ]
  },
  {
   "cell_type": "code",
   "execution_count": 61,
   "metadata": {},
   "outputs": [
    {
     "name": "stdout",
     "output_type": "stream",
     "text": [
      "2021-01-14 17:40:08\n",
      "2021-01-14 19:14:45\n",
      "2021-01-15 05:16:00\n",
      "2021-01-15 06:50:18\n",
      "2021-01-15 18:27:03\n"
     ]
    }
   ],
   "source": [
    "# now `risetime` list contains all risetime for all 5 passes of ISS in the near future\n",
    "# however, risetime is recorded as POSIX timestamp i.e. seconds since January 1st 1970\n",
    "ConvertedTime = [datetime.fromtimestamp(time) for time in risetime]\n",
    "for time in ConvertedTime:\n",
    "    print(time)"
   ]
  },
  {
   "cell_type": "code",
   "execution_count": null,
   "metadata": {},
   "outputs": [],
   "source": []
  }
 ],
 "metadata": {
  "kernelspec": {
   "display_name": "Python 3",
   "language": "python",
   "name": "python3"
  },
  "language_info": {
   "codemirror_mode": {
    "name": "ipython",
    "version": 3
   },
   "file_extension": ".py",
   "mimetype": "text/x-python",
   "name": "python",
   "nbconvert_exporter": "python",
   "pygments_lexer": "ipython3",
   "version": "3.8.6"
  }
 },
 "nbformat": 4,
 "nbformat_minor": 4
}
